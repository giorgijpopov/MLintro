{
 "cells": [
  {
   "cell_type": "markdown",
   "metadata": {
    "toc": "true"
   },
   "source": [
    "<h1>Table of Contents<span class=\"tocSkip\"></span></h1>\n",
    "<div class=\"toc\"><ul class=\"toc-item\"><li><span><a href=\"#Применение-алгоритмов-машинного-обучения-для-задачи-банковского-скоринга\" data-toc-modified-id=\"Применение-алгоритмов-машинного-обучения-для-задачи-банковского-скоринга-1\"><span class=\"toc-item-num\">1&nbsp;&nbsp;</span>Применение алгоритмов машинного обучения для задачи банковского скоринга</a></span></li><li><span><a href=\"#Сравнить-работу-алгоритмов-классификации:\" data-toc-modified-id=\"Сравнить-работу-алгоритмов-классификации:-2\"><span class=\"toc-item-num\">2&nbsp;&nbsp;</span>Сравнить работу алгоритмов классификации:</a></span></li><li><span><a href=\"#Для-анализа-работы-алгоритмов-использовать-метрики:\" data-toc-modified-id=\"Для-анализа-работы-алгоритмов-использовать-метрики:-3\"><span class=\"toc-item-num\">3&nbsp;&nbsp;</span>Для анализа работы алгоритмов использовать метрики:</a></span></li><li><span><a href=\"#Для-разбиения-выборки-в-процессе-кросс-валидации-в-процессе-обучения-можно-использовать-KFold:\" data-toc-modified-id=\"Для-разбиения-выборки-в-процессе-кросс-валидации-в-процессе-обучения-можно-использовать-KFold:-4\"><span class=\"toc-item-num\">4&nbsp;&nbsp;</span>Для разбиения выборки в процессе кросс-валидации в процессе обучения можно использовать KFold:</a></span></li></ul></div>"
   ]
  },
  {
   "cell_type": "markdown",
   "metadata": {},
   "source": [
    "# Применение алгоритмов машинного обучения для задачи банковского скоринга"
   ]
  },
  {
   "cell_type": "markdown",
   "metadata": {},
   "source": [
    "Входными данными являются наборы для обучения и для тестирования:\n",
    "* bank_scoring_train.csv.gz\n",
    "* bank_scoring_test.csv.gz"
   ]
  },
  {
   "cell_type": "markdown",
   "metadata": {
    "collapsed": true
   },
   "source": [
    "Описание полей:\n",
    "* SeriousDlqin2yrs - Флаг выхода на просрочку через 90 дней\n",
    "* RevolvingUtilizationOfUnsecuredLines - Общий баланс по кредитным картам и личным кредитным линиям, за исключением недвижимости, и без задолженности по кредитам, таким как автокредиты, деленные на сумму кредитных лимитов\n",
    "* age - Возраст заёмщика в годах\n",
    "* NumberOfTime30-59DaysPastDueNotWorse - Сколько раз заемщик просрочил выплату не более, чем на 30-59 дней, за последние 2 года.\n",
    "* DebtRatio - Ежемесячные платежи по долгам, алименты и прожиточные расходы, делённые на месячный валовый доход\n",
    "* MonthlyIncome - Ежемесячный доход\n",
    "* NumberOfOpenCreditLinesAndLoans - Количество открытых кредитов (например, автокредит или закладная, кредитные карты и т.д.)\n",
    "* NumberOfTimes90DaysLate - Сколько раз заёмщик просрочил выплату на 90 дней и более.\n",
    "* NumberRealEstateLoansOrLines - Количество ипотечных кредитов и кредитов на недвижимость\n",
    "* NumberOfTime60-89DaysPastDueNotWorse - Сколько раз заёмщик просрочил выплату не более, чем на 60-89 дней, за последние 2 года.\n",
    "* NumberOfDependents - Количество иждивенцев в семье, исключая самого заёмщика (супруга, дети и т.д.)"
   ]
  },
  {
   "cell_type": "markdown",
   "metadata": {},
   "source": [
    "Целевой переменной является SeriousDlqin2yrs"
   ]
  },
  {
   "cell_type": "markdown",
   "metadata": {},
   "source": [
    "# Сравнить работу алгоритмов классификации:\n",
    "* KNeighborsClassifier (например, с числом ближайших соседей n_neighbors = 1, 10, 50, 100)\n",
    "\n",
    "http://scikit-learn.org/stable/modules/generated/sklearn.neighbors.KNeighborsClassifier.html#sklearn.neighbors.KNeighborsClassifier\n",
    "\n",
    "* DecisionTreeClassifier (например, с максимальной глубиной max_depth = 1, 10, 100, None)\n",
    "\n",
    "http://scikit-learn.org/stable/modules/generated/sklearn.tree.DecisionTreeClassifier.html#sklearn.tree.DecisionTreeClassifier\n",
    "\n",
    "* LogisticRegression\n",
    "\n",
    "http://scikit-learn.org/stable/modules/generated/sklearn.linear_model.LogisticRegression.html"
   ]
  },
  {
   "cell_type": "markdown",
   "metadata": {
    "collapsed": true
   },
   "source": [
    "# Для анализа работы алгоритмов использовать метрики:\n",
    "* f1_score\n",
    "\n",
    "http://scikit-learn.org/stable/modules/generated/sklearn.metrics.f1_score.html\n",
    "\n",
    "* roc_auc_score\n",
    "\n",
    "http://scikit-learn.org/stable/modules/generated/sklearn.metrics.roc_auc_score.html\n",
    "\n",
    "* accuracy_score\n",
    "\n",
    "http://scikit-learn.org/stable/modules/generated/sklearn.metrics.accuracy_score.html"
   ]
  },
  {
   "cell_type": "markdown",
   "metadata": {},
   "source": [
    "# Для разбиения выборки в процессе кросс-валидации в процессе обучения можно использовать KFold: \n",
    "\n",
    "* http://scikit-learn.org/stable/modules/generated/sklearn.model_selection.KFold.html"
   ]
  },
  {
   "cell_type": "code",
   "execution_count": 8,
   "metadata": {},
   "outputs": [],
   "source": [
    "from sklearn.neighbors import KNeighborsClassifier\n",
    "from sklearn.tree import DecisionTreeClassifier\n",
    "from sklearn.linear_model import LogisticRegression\n",
    "from sklearn.metrics import f1_score\n",
    "from sklearn.metrics import roc_auc_score\n",
    "from sklearn.metrics import accuracy_score\n",
    "from sklearn.model_selection import cross_val_score\n",
    "from sklearn.model_selection import KFold\n",
    "import pandas as pd\n",
    "import numpy as np\n",
    "\n",
    "samples = pd.read_csv('./bank_scoring_train.csv', sep = '\\t')\n",
    "y = samples['SeriousDlqin2yrs'].values\n",
    "X = samples[['RevolvingUtilizationOfUnsecuredLines', 'age', 'NumberOfTime30-59DaysPastDueNotWorse', 'DebtRatio', 'MonthlyIncome', \n",
    "             'NumberOfOpenCreditLinesAndLoans', 'NumberOfTimes90DaysLate', 'NumberRealEstateLoansOrLines', \n",
    "             'NumberOfTime60-89DaysPastDueNotWorse', 'NumberOfDependents']].values\n",
    "test_samples =  pd.read_csv('./bank_scoring_test.csv', sep = '\\t')\n",
    "y_test = samples['SeriousDlqin2yrs'].values\n",
    "X_test = samples[['RevolvingUtilizationOfUnsecuredLines', 'age', 'NumberOfTime30-59DaysPastDueNotWorse', 'DebtRatio', 'MonthlyIncome', \n",
    "             'NumberOfOpenCreditLinesAndLoans', 'NumberOfTimes90DaysLate', 'NumberRealEstateLoansOrLines', \n",
    "             'NumberOfTime60-89DaysPastDueNotWorse', 'NumberOfDependents']].values"
   ]
  },
  {
   "cell_type": "code",
   "execution_count": 6,
   "metadata": {},
   "outputs": [
    {
     "name": "stdout",
     "output_type": "stream",
     "text": [
      "Значения правильности перекрестной проверки для  KNeighbors1  =  0.9449364078900194\n",
      "Значения правильности перекрестной проверки для  KNeighbors10  =  0.9309262431936771\n",
      "Значения правильности перекрестной проверки для  KNeighbors50  =  0.93119646862816\n",
      "Значения правильности перекрестной проверки для  KNeighbors100  =  0.9311652879186629\n",
      "Значения правильности перекрестной проверки для  DecisionTree1  =  0.9311548950689437\n",
      "Значения правильности перекрестной проверки для  DecisionTree10  =  0.9368192460648862\n",
      "Значения правильности перекрестной проверки для  DecisionTree100  =  0.9430344369989209\n",
      "Значения правильности перекрестной проверки для  DecisionTreeNone  =  0.9430032633105249\n",
      "Значения правильности перекрестной проверки для  LogReg  =  0.9312484339569262\n"
     ]
    }
   ],
   "source": [
    "kfold = KFold (n_splits = 5)\n",
    "algoritms = [KNeighborsClassifier (n_neighbors = 1), KNeighborsClassifier (n_neighbors = 10),\n",
    "             KNeighborsClassifier (n_neighbors = 50), KNeighborsClassifier (n_neighbors = 100),\n",
    "             DecisionTreeClassifier (max_depth = 1), DecisionTreeClassifier (max_depth = 10), \n",
    "             DecisionTreeClassifier (max_depth = 100), DecisionTreeClassifier (),\n",
    "             LogisticRegression ()]\n",
    "alg_names = ['KNeighbors1', 'KNeighbors10', 'KNeighbors50', 'KNeighbors100',\n",
    "             'DecisionTree1', 'DecisionTree10', 'DecisionTree100', 'DecisionTreeNone', 'LogReg']\n",
    "\n",
    "for alg, alg_name in zip (algoritms, alg_names):\n",
    "    print('Значения правильности перекрестной проверки для ', alg_name, ' = ',\n",
    "          cross_val_score (alg, X, y, cv=kfold).mean ())"
   ]
  },
  {
   "cell_type": "code",
   "execution_count": 9,
   "metadata": {},
   "outputs": [
    {
     "name": "stdout",
     "output_type": "stream",
     "text": [
      "Результат для  KNeighbors1  f1_score =  0.9996981587684878  roc_auc_score =  0.999977676578266  accuracy_score =  0.9999584268728694\n",
      "Результат для  KNeighbors10  f1_score =  0.07714367651276169  roc_auc_score =  0.519852902400706  accuracy_score =  0.933108838446828\n",
      "Результат для  KNeighbors50  f1_score =  0.00481203007518797  roc_auc_score =  0.5011519209142637  accuracy_score =  0.9312172611623847\n",
      "Результат для  KNeighbors100  f1_score =  0.0003018867924528302  roc_auc_score =  0.5000754830917874  accuracy_score =  0.9311652947534713\n",
      "Результат для  DecisionTree1  f1_score =  0.0  roc_auc_score =  0.5  accuracy_score =  0.9311549014716887\n"
     ]
    },
    {
     "name": "stderr",
     "output_type": "stream",
     "text": [
      "C:\\ProgramData\\Anaconda3\\lib\\site-packages\\sklearn\\metrics\\classification.py:1135: UndefinedMetricWarning: F-score is ill-defined and being set to 0.0 due to no predicted samples.\n",
      "  'precision', 'predicted', average, warn_for)\n"
     ]
    },
    {
     "name": "stdout",
     "output_type": "stream",
     "text": [
      "Результат для  DecisionTree10  f1_score =  0.45494923857868025  roc_auc_score =  0.658563567884555  accuracy_score =  0.9464330256921926\n",
      "Результат для  DecisionTree100  f1_score =  0.9997735336302559  roc_auc_score =  0.9998434529609918  accuracy_score =  0.999968820154652\n",
      "Результат для  DecisionTreeNone  f1_score =  0.9997735336302559  roc_auc_score =  0.9998434529609918  accuracy_score =  0.999968820154652\n",
      "Результат для  LogReg  f1_score =  0.020441416086505706  roc_auc_score =  0.5048846437181891  accuracy_score =  0.9312692275712979\n"
     ]
    }
   ],
   "source": [
    "from sklearn.metrics import f1_score\n",
    "from sklearn.metrics import roc_auc_score\n",
    "from sklearn.metrics import accuracy_score\n",
    "\n",
    "for alg, alg_name in zip (algoritms, alg_names):\n",
    "    y_pred = alg.fit (X, y).predict (X_test)\n",
    "    print ('Результат для ', alg_name,\n",
    "           ' f1_score = ', f1_score (y_test, y_pred),\n",
    "           ' roc_auc_score = ', roc_auc_score (y_test, y_pred),\n",
    "           ' accuracy_score = ', accuracy_score (y_test, y_pred))"
   ]
  }
 ],
 "metadata": {
  "kernelspec": {
   "display_name": "Python 3",
   "language": "python",
   "name": "python3"
  },
  "language_info": {
   "codemirror_mode": {
    "name": "ipython",
    "version": 3
   },
   "file_extension": ".py",
   "mimetype": "text/x-python",
   "name": "python",
   "nbconvert_exporter": "python",
   "pygments_lexer": "ipython3",
   "version": "3.6.5"
  },
  "toc": {
   "base_numbering": 1,
   "nav_menu": {
    "height": "40px",
    "width": "252px"
   },
   "number_sections": true,
   "sideBar": true,
   "skip_h1_title": false,
   "title_cell": "Table of Contents",
   "title_sidebar": "Contents",
   "toc_cell": true,
   "toc_position": {},
   "toc_section_display": "block",
   "toc_window_display": false
  }
 },
 "nbformat": 4,
 "nbformat_minor": 2
}
